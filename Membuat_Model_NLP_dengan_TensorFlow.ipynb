{
  "nbformat": 4,
  "nbformat_minor": 0,
  "metadata": {
    "colab": {
      "provenance": [],
      "authorship_tag": "ABX9TyMtWi4ncZ1x/tNWpu25Cim5",
      "include_colab_link": true
    },
    "kernelspec": {
      "name": "python3",
      "display_name": "Python 3"
    },
    "language_info": {
      "name": "python"
    }
  },
  "cells": [
    {
      "cell_type": "markdown",
      "metadata": {
        "id": "view-in-github",
        "colab_type": "text"
      },
      "source": [
        "<a href=\"https://colab.research.google.com/github/zenikigai/Pengembangan_Machine_Learning_IDcamp2023/blob/main/Membuat_Model_NLP_dengan_TensorFlow.ipynb\" target=\"_parent\"><img src=\"https://colab.research.google.com/assets/colab-badge.svg\" alt=\"Open In Colab\"/></a>"
      ]
    },
    {
      "cell_type": "markdown",
      "source": [
        "Subject: Membuat Model NLP dengan TensorFlow\n",
        "\n",
        "this task was valued 4 starts"
      ],
      "metadata": {
        "id": "CU6jrTeSvFiN"
      }
    },
    {
      "cell_type": "code",
      "execution_count": 1,
      "metadata": {
        "colab": {
          "base_uri": "https://localhost:8080/"
        },
        "id": "TV99J_eUBQ6i",
        "outputId": "7b3de698-3249-47c9-a964-2347cef4b890"
      },
      "outputs": [
        {
          "output_type": "stream",
          "name": "stdout",
          "text": [
            "Downloading...\n",
            "From: https://drive.google.com/uc?id=1pQMBSmnaqgoDaMVNKHIqsTJDqf9EiFQ9\n",
            "To: /content/Restaurant reviews.csv\n",
            "\r  0% 0.00/3.59M [00:00<?, ?B/s]\r100% 3.59M/3.59M [00:00<00:00, 146MB/s]\n"
          ]
        }
      ],
      "source": [
        "!gdown 1pQMBSmnaqgoDaMVNKHIqsTJDqf9EiFQ9"
      ]
    },
    {
      "cell_type": "code",
      "source": [
        "import tensorflow as tf\n",
        "from tensorflow.keras.models import Sequential\n",
        "from tensorflow.keras.preprocessing.sequence import pad_sequences\n",
        "from tensorflow.keras.utils import to_categorical\n",
        "from tensorflow.keras.optimizers import Adam\n",
        "from tensorflow.keras.preprocessing.text import Tokenizer\n",
        "from tensorflow.keras.layers import Embedding, LSTM, Dense, SpatialDropout1D, Bidirectional, Dropout, BatchNormalization\n",
        "from tensorflow.keras.callbacks import EarlyStopping\n",
        "from sklearn.model_selection import train_test_split\n",
        "import pandas as pd\n",
        "import matplotlib.pyplot as plt"
      ],
      "metadata": {
        "id": "i4h6Fr_QBWFs"
      },
      "execution_count": 24,
      "outputs": []
    },
    {
      "cell_type": "code",
      "source": [
        "# Load dataset (replace with your file path)\n",
        "df = pd.read_csv(\"Restaurant reviews.csv\")\n",
        "print(df)"
      ],
      "metadata": {
        "colab": {
          "base_uri": "https://localhost:8080/"
        },
        "id": "if3cCl3rBcqw",
        "outputId": "fae377ed-efc1-4e09-9c6e-0c92d6599ed9"
      },
      "execution_count": 3,
      "outputs": [
        {
          "output_type": "stream",
          "name": "stdout",
          "text": [
            "            Restaurant              Reviewer  \\\n",
            "0      Beyond Flavours     Rusha Chakraborty   \n",
            "1      Beyond Flavours  Anusha Tirumalaneedi   \n",
            "2      Beyond Flavours       Ashok Shekhawat   \n",
            "3      Beyond Flavours        Swapnil Sarkar   \n",
            "4      Beyond Flavours                Dileep   \n",
            "...                ...                   ...   \n",
            "9995  Chinese Pavilion      Abhishek Mahajan   \n",
            "9996  Chinese Pavilion        Sharad Agrawal   \n",
            "9997  Chinese Pavilion             Ramandeep   \n",
            "9998  Chinese Pavilion       Nayana Shanbhag   \n",
            "9999  Chinese Pavilion      Bhargava Krishna   \n",
            "\n",
            "                                                 Review Rating  \\\n",
            "0     The ambience was good, food was quite good . h...      5   \n",
            "1     Ambience is too good for a pleasant evening. S...      5   \n",
            "2     A must try.. great food great ambience. Thnx f...      5   \n",
            "3     Soumen das and Arun was a great guy. Only beca...      5   \n",
            "4     Food is good.we ordered Kodi drumsticks and ba...      5   \n",
            "...                                                 ...    ...   \n",
            "9995  Madhumathi Mahajan Well to start with nice cou...      3   \n",
            "9996  This place has never disappointed us.. The foo...    4.5   \n",
            "9997  Bad rating is mainly because of \"Chicken Bone ...    1.5   \n",
            "9998  I personally love and prefer Chinese Food. Had...      4   \n",
            "9999  Checked in here to try some delicious chinese ...    3.5   \n",
            "\n",
            "                          Metadata             Time  Pictures    7514  \n",
            "0           1 Review , 2 Followers  5/25/2019 15:54         0  2447.0  \n",
            "1          3 Reviews , 2 Followers  5/25/2019 14:20         0     NaN  \n",
            "2          2 Reviews , 3 Followers  5/24/2019 22:54         0     NaN  \n",
            "3            1 Review , 1 Follower  5/24/2019 22:11         0     NaN  \n",
            "4          3 Reviews , 2 Followers  5/24/2019 21:37         0     NaN  \n",
            "...                            ...              ...       ...     ...  \n",
            "9995     53 Reviews , 54 Followers    6/5/2016 0:08         0     NaN  \n",
            "9996      2 Reviews , 53 Followers   6/4/2016 22:01         0     NaN  \n",
            "9997    65 Reviews , 423 Followers   6/3/2016 10:37         3     NaN  \n",
            "9998    13 Reviews , 144 Followers  5/31/2016 17:22         0     NaN  \n",
            "9999  472 Reviews , 1302 Followers  5/31/2016 16:41         6     NaN  \n",
            "\n",
            "[10000 rows x 8 columns]\n"
          ]
        }
      ]
    },
    {
      "cell_type": "code",
      "source": [
        "df[\"Review\"] = df[\"Review\"].astype(str)\n",
        "df[\"Rating\"] = pd.to_numeric(df[\"Rating\"], errors=\"coerce\")\n",
        "df = df.dropna(subset=[\"Rating\"])\n",
        "df.loc[:, \"Sentiment\"] = df[\"Rating\"].apply(lambda x: 1 if x > 3.5 else 0)"
      ],
      "metadata": {
        "colab": {
          "base_uri": "https://localhost:8080/"
        },
        "id": "7agVoFm-Bm3A",
        "outputId": "4bd487b0-0caf-4a9b-d3b6-0be376585c88"
      },
      "execution_count": 4,
      "outputs": [
        {
          "output_type": "stream",
          "name": "stderr",
          "text": [
            "<ipython-input-4-f3229e57319e>:4: SettingWithCopyWarning: \n",
            "A value is trying to be set on a copy of a slice from a DataFrame.\n",
            "Try using .loc[row_indexer,col_indexer] = value instead\n",
            "\n",
            "See the caveats in the documentation: https://pandas.pydata.org/pandas-docs/stable/user_guide/indexing.html#returning-a-view-versus-a-copy\n",
            "  df.loc[:, \"Sentiment\"] = df[\"Rating\"].apply(lambda x: 1 if x > 3.5 else 0)\n"
          ]
        }
      ]
    },
    {
      "cell_type": "code",
      "source": [
        "X_train, X_val, y_train, y_val = train_test_split(\n",
        "    df[\"Review\"],\n",
        "    df[\"Sentiment\"],\n",
        "    test_size=0.2,\n",
        "    random_state=42\n",
        ")"
      ],
      "metadata": {
        "id": "djSAZW-dWz7L"
      },
      "execution_count": 5,
      "outputs": []
    },
    {
      "cell_type": "code",
      "source": [
        "max_words = 10000\n",
        "max_len = 50\n",
        "\n",
        "X_train = X_train.astype(str)\n",
        "X_val = X_val.astype(str)\n",
        "\n",
        "X_train_list = X_train.tolist()\n",
        "X_val_list = X_val.tolist()"
      ],
      "metadata": {
        "id": "wZ9goLhlr7gk"
      },
      "execution_count": 13,
      "outputs": []
    },
    {
      "cell_type": "code",
      "source": [
        "tokenizer = Tokenizer(num_words=max_words, oov_token=\"<oov>\")\n",
        "tokenizer.fit_on_texts(X_train_list)\n",
        "\n",
        "X_train = pad_sequences(tokenizer.texts_to_sequences(X_train_list), maxlen=max_len)\n",
        "X_val = pad_sequences(tokenizer.texts_to_sequences(X_val_list), maxlen=max_len)"
      ],
      "metadata": {
        "id": "SXizbcQmW4y_"
      },
      "execution_count": 19,
      "outputs": []
    },
    {
      "cell_type": "code",
      "source": [
        "num_classes = 2\n",
        "y_train = to_categorical(y_train, num_classes)\n",
        "y_val = to_categorical(y_val, num_classes)"
      ],
      "metadata": {
        "id": "WnPbh2_OW8tT"
      },
      "execution_count": 22,
      "outputs": []
    },
    {
      "cell_type": "code",
      "source": [
        "model = Sequential([\n",
        "    Embedding(input_dim=max_words, output_dim=128, input_length=max_len),\n",
        "    SpatialDropout1D(0.5),\n",
        "    Dropout(0.5),\n",
        "    Bidirectional(LSTM(64, return_sequences=True, kernel_regularizer=tf.keras.regularizers.l2(0.01))),\n",
        "    BatchNormalization(),\n",
        "    LSTM(32, kernel_regularizer=tf.keras.regularizers.l2(0.01)),\n",
        "    BatchNormalization(),\n",
        "    Dropout(0.5),\n",
        "    Dense(64, activation=\"relu\", kernel_regularizer=tf.keras.regularizers.l2(0.01)),\n",
        "    BatchNormalization(),\n",
        "    Dense(2, activation=\"softmax\")\n",
        "])"
      ],
      "metadata": {
        "id": "A9szngZ3W_5D"
      },
      "execution_count": 23,
      "outputs": []
    },
    {
      "cell_type": "code",
      "source": [
        "optimizer = Adam( learning_rate=0.001 )\n",
        "model.compile(\n",
        "    optimizer=optimizer,\n",
        "    loss=\"categorical_crossentropy\",\n",
        "    metrics=[\"accuracy\"]\n",
        "  )"
      ],
      "metadata": {
        "id": "xYzAUCfRXCip"
      },
      "execution_count": 25,
      "outputs": []
    },
    {
      "cell_type": "code",
      "source": [
        "early_stopping = EarlyStopping(\n",
        "    monitor='val_accuracy',\n",
        "    patience=3,\n",
        "    restore_best_weights=True\n",
        "  )"
      ],
      "metadata": {
        "id": "quNwjy8sXMf-"
      },
      "execution_count": 26,
      "outputs": []
    },
    {
      "cell_type": "code",
      "source": [
        "epochs = 20\n",
        "batch_size = 32\n",
        "\n",
        "history = model.fit(\n",
        "    X_train, y_train,\n",
        "    epochs=epochs,\n",
        "    batch_size=batch_size,\n",
        "    validation_data=(X_val, y_val),\n",
        "    callbacks=[early_stopping]\n",
        ")\n",
        "\n",
        "train_loss, train_accuracy = model.evaluate(X_train, y_train)\n",
        "val_loss, val_accuracy = model.evaluate(X_val, y_val)\n",
        "print(f\"Training Loss: {train_loss:.4f}\")\n",
        "print(f\"Training Accuracy: {train_accuracy:.4f}\")\n",
        "print(f\"Validation Loss: {val_loss:.4f}\")\n",
        "print(f\"Validation Accuracy: {val_accuracy:.4f}\")"
      ],
      "metadata": {
        "colab": {
          "base_uri": "https://localhost:8080/"
        },
        "id": "PAPIpWPQXP2g",
        "outputId": "76f53ec4-da24-4887-e113-4d8589dc12e3"
      },
      "execution_count": 27,
      "outputs": [
        {
          "output_type": "stream",
          "name": "stdout",
          "text": [
            "Epoch 1/20\n",
            "249/249 [==============================] - 35s 115ms/step - loss: 2.6723 - accuracy: 0.6894 - val_loss: 1.5802 - val_accuracy: 0.6458\n",
            "Epoch 2/20\n",
            "249/249 [==============================] - 28s 111ms/step - loss: 1.0733 - accuracy: 0.8394 - val_loss: 0.7837 - val_accuracy: 0.8530\n",
            "Epoch 3/20\n",
            "249/249 [==============================] - 26s 106ms/step - loss: 0.6221 - accuracy: 0.8838 - val_loss: 0.5147 - val_accuracy: 0.8886\n",
            "Epoch 4/20\n",
            "249/249 [==============================] - 28s 111ms/step - loss: 0.4234 - accuracy: 0.8998 - val_loss: 0.4461 - val_accuracy: 0.8600\n",
            "Epoch 5/20\n",
            "249/249 [==============================] - 28s 112ms/step - loss: 0.3355 - accuracy: 0.9109 - val_loss: 0.3736 - val_accuracy: 0.8856\n",
            "Epoch 6/20\n",
            "249/249 [==============================] - 27s 107ms/step - loss: 0.2808 - accuracy: 0.9188 - val_loss: 0.4509 - val_accuracy: 0.8470\n",
            "249/249 [==============================] - 6s 23ms/step - loss: 0.4456 - accuracy: 0.9345\n",
            "63/63 [==============================] - 1s 23ms/step - loss: 0.5147 - accuracy: 0.8886\n",
            "Training Loss: 0.4456\n",
            "Training Accuracy: 0.9345\n",
            "Validation Loss: 0.5147\n",
            "Validation Accuracy: 0.8886\n"
          ]
        }
      ]
    },
    {
      "cell_type": "code",
      "source": [
        "plt.style.use('dark_background')\n",
        "\n",
        "plt.figure(figsize=(10, 4))\n",
        "\n",
        "plt.subplot(1, 2, 1)\n",
        "plt.plot(history.history['loss'], label='Training Loss', color='lightblue')\n",
        "plt.plot(history.history['val_loss'], label='Validation Loss', color='orange')\n",
        "plt.xlabel('Epoch')\n",
        "plt.ylabel('Loss')\n",
        "plt.legend()\n",
        "plt.title('Training and Validation Loss')\n",
        "\n",
        "plt.subplot(1, 2, 2)\n",
        "plt.plot(history.history['accuracy'], label='Training Accuracy', color='lightblue')\n",
        "plt.plot(history.history['val_accuracy'], label='Validation Accuracy', color='orange')\n",
        "plt.xlabel('Epoch')\n",
        "plt.ylabel('Accuracy')\n",
        "plt.legend()\n",
        "plt.title('Training and Validation Accuracy')\n",
        "\n",
        "plt.tight_layout()\n",
        "\n",
        "plt.savefig('training_plot.png', dpi=150, bbox_inches='tight')\n",
        "plt.show()"
      ],
      "metadata": {
        "colab": {
          "base_uri": "https://localhost:8080/",
          "height": 352
        },
        "id": "xMRsZEfxXuzO",
        "outputId": "09752813-1e39-4921-d998-ec2528c87da0"
      },
      "execution_count": 28,
      "outputs": [
        {
          "output_type": "display_data",
          "data": {
            "text/plain": [
              "<Figure size 1000x400 with 2 Axes>"
            ],
            "image/png": "[encoded data removed]"
          },
          "metadata": {}
        }
      ]
    },
    {
      "cell_type": "code",
      "source": [],
      "metadata": {
        "id": "y7MWGhvsaHpD"
      },
      "execution_count": null,
      "outputs": []
    }
  ]
}