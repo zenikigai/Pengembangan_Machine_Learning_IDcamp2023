{
  "nbformat": 4,
  "nbformat_minor": 0,
  "metadata": {
    "colab": {
      "provenance": [],
      "authorship_tag": "ABX9TyOXs0haMxIeT2EJFD1d7ZUv",
      "include_colab_link": true
    },
    "kernelspec": {
      "name": "python3",
      "display_name": "Python 3"
    },
    "language_info": {
      "name": "python"
    }
  },
  "cells": [
    {
      "cell_type": "markdown",
      "metadata": {
        "id": "view-in-github",
        "colab_type": "text"
      },
      "source": [
        "<a href=\"https://colab.research.google.com/github/zenikigai/Pengembangan_Machine_Learning_IDcamp2023/blob/main/Plot_Loss_and__Accuracy_from_Trained_Model.ipynb\" target=\"_parent\"><img src=\"https://colab.research.google.com/assets/colab-badge.svg\" alt=\"Open In Colab\"/></a>"
      ]
    },
    {
      "cell_type": "markdown",
      "source": [
        "Plot Loss & Accuracy from Trained Model"
      ],
      "metadata": {
        "id": "TFBpGWAPLf2B"
      }
    },
    {
      "cell_type": "code",
      "execution_count": 1,
      "metadata": {
        "id": "CyRzVSiULcuV"
      },
      "outputs": [],
      "source": [
        "# import matplotlib library\n",
        "import matplotlib.pyplot as plt"
      ]
    },
    {
      "cell_type": "code",
      "source": [
        "# plot for loss\n",
        "plt.plot(hist.history[\"loss\"])\n",
        "plt.title(\"Model loss\")\n",
        "plt.ylabel(\"Loss\")\n",
        "plt.xlabel(\"Epoch\")\n",
        "plt.legend( [\"Train\"], loc= \"upper right\" )\n",
        "plt.show()"
      ],
      "metadata": {
        "id": "NFvEI815MXWf"
      },
      "execution_count": null,
      "outputs": []
    },
    {
      "cell_type": "code",
      "source": [
        "# plot for accuracy\n",
        "plt.plot(hist.history[\"accuracy\"])\n",
        "plt.title(\"Model accuracy\")\n",
        "plt.ylabel(\"Accuracy\")\n",
        "plt.xlabel(\"Epoch\")\n",
        "plt.legend( [\"Train\"], loc = \"lower right\")\n",
        "plt.show()"
      ],
      "metadata": {
        "id": "f07W61cvNYZk"
      },
      "execution_count": null,
      "outputs": []
    },
    {
      "cell_type": "markdown",
      "source": [
        "You can also do it like these"
      ],
      "metadata": {
        "id": "iIYFHhwYO3Ed"
      }
    },
    {
      "cell_type": "code",
      "source": [
        "# plot for accuracy\n",
        "plt.plot(hist.history['accuracy'], label='Training Accuracy')\n",
        "plt.plot(hist.history['val_accuracy'], label='Validation Accuracy')\n",
        "plt.xlabel('Epoch')\n",
        "plt.ylabel('Accuracy')\n",
        "plt.legend()\n",
        "plt.show()\n",
        "\n",
        "# plot for loss\n",
        "plt.plot(hist.history['loss'], label='Training Loss')\n",
        "plt.plot(hist.history['val_loss'], label='Validation Loss')\n",
        "plt.xlabel('Epoch')\n",
        "plt.ylabel('Loss')\n",
        "plt.legend()\n",
        "plt.show()"
      ],
      "metadata": {
        "id": "b6pzvUvsO8Ec"
      },
      "execution_count": null,
      "outputs": []
    },
    {
      "cell_type": "markdown",
      "source": [
        "you can run those code after training your model, you can change the \"hist\" as you want. if it's like this\n",
        "\n",
        "my_model = model.fit()\n",
        "\n",
        "then you can change the \"hist\" to \"my_model\". here we don't have \"hist\" because it is actually a continuation of this https://github.com/zenikigai/Pengembangan_Machine_Learning_IDcamp2023/blob/main/Jst_multi_class.ipynb"
      ],
      "metadata": {
        "id": "J7BCtvMQPReY"
      }
    }
  ]
}