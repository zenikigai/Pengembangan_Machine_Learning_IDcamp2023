{
  "nbformat": 4,
  "nbformat_minor": 0,
  "metadata": {
    "colab": {
      "provenance": [],
      "authorship_tag": "ABX9TyM7F3fkjOyvuL4BHR/YRXhz",
      "include_colab_link": true
    },
    "kernelspec": {
      "name": "python3",
      "display_name": "Python 3"
    },
    "language_info": {
      "name": "python"
    }
  },
  "cells": [
    {
      "cell_type": "markdown",
      "metadata": {
        "id": "view-in-github",
        "colab_type": "text"
      },
      "source": [
        "<a href=\"https://colab.research.google.com/github/zenikigai/Pengembangan_Machine_Learning_IDcamp2023/blob/main/tf_data_datasets.ipynb\" target=\"_parent\"><img src=\"https://colab.research.google.com/assets/colab-badge.svg\" alt=\"Open In Colab\"/></a>"
      ]
    },
    {
      "cell_type": "markdown",
      "source": [
        "#Using dataset from tf.data.datasets\n",
        "to see more dataset that we can use for learning visit: https://www.tensorflow.org/api_docs/python/tf/keras/datasets\n",
        "\n",
        "in this lesson i use mnist datasets"
      ],
      "metadata": {
        "id": "oEaUD3DmEDmi"
      }
    },
    {
      "cell_type": "code",
      "execution_count": 1,
      "metadata": {
        "colab": {
          "base_uri": "https://localhost:8080/"
        },
        "id": "Na4NBB2lEB7i",
        "outputId": "8ff435ef-84fe-444b-8cf4-4fc41c498b3e"
      },
      "outputs": [
        {
          "output_type": "stream",
          "name": "stdout",
          "text": [
            "2.15.0\n"
          ]
        }
      ],
      "source": [
        "# import tensorflow library\n",
        "import tensorflow as tf\n",
        "print(tf.__version__)"
      ]
    },
    {
      "cell_type": "code",
      "source": [
        "# object to store dataset, tf.keras.datasets.<yourDatasetHere>\n",
        "mnist = tf.keras.datasets.mnist"
      ],
      "metadata": {
        "id": "DTsfZOh0FD2D"
      },
      "execution_count": 2,
      "outputs": []
    },
    {
      "cell_type": "code",
      "source": [
        "# The load_data() function of the dataset object returns a dataset that has been split into a train attribute, a train label, a test attribute, and a test label.\n",
        "(train_image, label_train), (test_image, label_test) = mnist.load_data()"
      ],
      "metadata": {
        "colab": {
          "base_uri": "https://localhost:8080/"
        },
        "id": "SWKXqC89F68z",
        "outputId": "cbfb3ab1-1a30-403b-8cd9-c7714464d07a"
      },
      "execution_count": 3,
      "outputs": [
        {
          "output_type": "stream",
          "name": "stdout",
          "text": [
            "Downloading data from https://storage.googleapis.com/tensorflow/tf-keras-datasets/mnist.npz\n",
            "11490434/11490434 [==============================] - 0s 0us/step\n"
          ]
        }
      ]
    },
    {
      "cell_type": "code",
      "source": [
        "# show one of the label and the picture from train data using matplotlib library\n",
        "import numpy as np\n",
        "np.set_printoptions( linewidth=200 )\n",
        "import matplotlib.pyplot as plt\n",
        "plt.imshow(train_image[8])\n",
        "print(label_train[8])"
      ],
      "metadata": {
        "colab": {
          "base_uri": "https://localhost:8080/",
          "height": 447
        },
        "id": "s0-cqzxgG-z8",
        "outputId": "761a5a0e-3e1b-4532-8552-6b61256c29d5"
      },
      "execution_count": 4,
      "outputs": [
        {
          "output_type": "stream",
          "name": "stdout",
          "text": [
            "1\n"
          ]
        },
        {
          "output_type": "display_data",
          "data": {
            "text/plain": [
              "<Figure size 640x480 with 1 Axes>"
            ],
            "image/png": "[encoded data removed]"
          },
          "metadata": {}
        }
      ]
    },
    {
      "cell_type": "code",
      "source": [
        "# Normalization\n",
        "# divide each pixel in the image by 255, because value of a pixel ranging from 0 to 255.\n",
        "train_image = train_image / 255.0\n",
        "test_image = test_image / 255.0"
      ],
      "metadata": {
        "id": "RQOhu1M8H9Zb"
      },
      "execution_count": 5,
      "outputs": []
    },
    {
      "cell_type": "code",
      "source": [
        "# we use 3 layers, the first layer we use special layer that is Flatten\n",
        "# Flatten serves to convert our input in the form of a 2-dimensional matrix into a 1-dimensional array.\n",
        "\n",
        "model = tf.keras.models.Sequential([\n",
        "    tf.keras.layers.Flatten(input_shape=(28,28)),\n",
        "    tf.keras.layers.Dense(128, activation=tf.nn.relu),\n",
        "    tf.keras.layers.Dense(10, activation=tf.nn.softmax)\n",
        "])"
      ],
      "metadata": {
        "id": "9uBG9PxfJbqS"
      },
      "execution_count": 6,
      "outputs": []
    },
    {
      "cell_type": "code",
      "source": [
        "# determine optimizer and loss\n",
        "model.compile(optimizer = tf.optimizers.Adam(),\n",
        "              loss = \"sparse_categorical_crossentropy\",\n",
        "              metrics = [\"accuracy\"])\n",
        "\n",
        "model.fit(train_image, label_train, epochs = 5)"
      ],
      "metadata": {
        "colab": {
          "base_uri": "https://localhost:8080/"
        },
        "id": "m1DzJ_x9jFyh",
        "outputId": "9086f34f-5c17-473e-c4f0-c40103d4f489"
      },
      "execution_count": 7,
      "outputs": [
        {
          "output_type": "stream",
          "name": "stdout",
          "text": [
            "Epoch 1/5\n",
            "1875/1875 [==============================] - 6s 3ms/step - loss: 0.2579 - accuracy: 0.9257\n",
            "Epoch 2/5\n",
            "1875/1875 [==============================] - 7s 4ms/step - loss: 0.1128 - accuracy: 0.9663\n",
            "Epoch 3/5\n",
            "1875/1875 [==============================] - 6s 3ms/step - loss: 0.0770 - accuracy: 0.9766\n",
            "Epoch 4/5\n",
            "1875/1875 [==============================] - 8s 4ms/step - loss: 0.0581 - accuracy: 0.9821\n",
            "Epoch 5/5\n",
            "1875/1875 [==============================] - 6s 3ms/step - loss: 0.0442 - accuracy: 0.9864\n"
          ]
        },
        {
          "output_type": "execute_result",
          "data": {
            "text/plain": [
              "<keras.src.callbacks.History at 0x799bc4bf3d60>"
            ]
          },
          "metadata": {},
          "execution_count": 7
        }
      ]
    }
  ]
}