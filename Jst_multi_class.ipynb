{
  "nbformat": 4,
  "nbformat_minor": 0,
  "metadata": {
    "colab": {
      "provenance": [],
      "authorship_tag": "ABX9TyOb03RERloLOx0cICv4Sq7W",
      "include_colab_link": true
    },
    "kernelspec": {
      "name": "python3",
      "display_name": "Python 3"
    },
    "language_info": {
      "name": "python"
    }
  },
  "cells": [
    {
      "cell_type": "markdown",
      "metadata": {
        "id": "view-in-github",
        "colab_type": "text"
      },
      "source": [
        "<a href=\"https://colab.research.google.com/github/zenikigai/Pengembangan_Machine_Learning_IDcamp2023/blob/main/Jst_multi_class.ipynb\" target=\"_parent\"><img src=\"https://colab.research.google.com/assets/colab-badge.svg\" alt=\"Open In Colab\"/></a>"
      ]
    },
    {
      "cell_type": "markdown",
      "source": [
        "download dataset here https://www.kaggle.com/datasets/uciml/iris"
      ],
      "metadata": {
        "id": "CbGR9CIA1Zsf"
      }
    },
    {
      "cell_type": "code",
      "execution_count": null,
      "metadata": {
        "id": "bVGsRLOCojLJ"
      },
      "outputs": [],
      "source": [
        "# import library\n",
        "import pandas as pd\n",
        "from sklearn import preprocessing\n",
        "from sklearn.model_selection import train_test_split\n",
        "from keras.models import Sequential\n",
        "from keras.layers import Dense"
      ]
    },
    {
      "cell_type": "code",
      "source": [
        "# change the dataset to be pandas dataframe\n",
        "df = pd.read_csv(\"Iris.csv\")\n",
        "df"
      ],
      "metadata": {
        "id": "FlLq_zNBpfVg"
      },
      "execution_count": null,
      "outputs": []
    },
    {
      "cell_type": "code",
      "source": [
        "# delete (drop()) the Id column, we don't need to use it\n",
        "df = df.drop(columns = \"Id\")"
      ],
      "metadata": {
        "id": "Vjn_il6yp4TF"
      },
      "execution_count": null,
      "outputs": []
    },
    {
      "cell_type": "code",
      "source": [
        "# one hot encoding, because our label is categorical\n",
        "category = pd.get_dummies(df.Species)\n",
        "category"
      ],
      "metadata": {
        "id": "L-xcQa5qraQW"
      },
      "execution_count": null,
      "outputs": []
    },
    {
      "cell_type": "code",
      "source": [
        "# We need to merge the result column of one hot encoding\n",
        "# remove the species column because that column will not be used.\n",
        "new_df = pd.concat( [df, category], axis=1 )\n",
        "new_df = new_df.drop(columns=\"Species\")\n",
        "new_df"
      ],
      "metadata": {
        "id": "V3CNDOUCr1DS"
      },
      "execution_count": null,
      "outputs": []
    },
    {
      "cell_type": "code",
      "source": [
        "# convert those dataframe into numpyt array with \"values\" function from the dataframe\n",
        "dataset = new_df.values\n",
        "dataset"
      ],
      "metadata": {
        "id": "TWLjody-t56-"
      },
      "execution_count": null,
      "outputs": []
    },
    {
      "cell_type": "code",
      "source": [
        "# separate the attribute and the label\n",
        "# choose the first 4 columns as attribute\n",
        "X = dataset[:, 0:4]\n",
        "\n",
        "# choose the last 3 columns as the label\n",
        "y = dataset[:, 4:7]"
      ],
      "metadata": {
        "id": "EQpQQjl-uKuc"
      },
      "execution_count": null,
      "outputs": []
    },
    {
      "cell_type": "code",
      "source": [
        "# Normalization\n",
        "min_max_scaler = preprocessing.MinMaxScaler()\n",
        "X_scale = min_max_scaler.fit_transform(X)\n",
        "X_scale"
      ],
      "metadata": {
        "id": "SzObsqVIvh9z"
      },
      "execution_count": null,
      "outputs": []
    },
    {
      "cell_type": "code",
      "source": [
        "# divide the data to be training data and test data, we give 30% for the test data\n",
        "X_train, X_test, Y_train, Y_test = train_test_split(X_scale, y, test_size=0.3)"
      ],
      "metadata": {
        "id": "Opl3K0u-xMvu"
      },
      "execution_count": null,
      "outputs": []
    },
    {
      "cell_type": "code",
      "source": [
        "# determine the model architecture, i use 3 layers, activation func \"softmax\" because it's multiclass\n",
        "model = Sequential([\n",
        "    Dense(64, activation=\"relu\", input_shape=(4,)),\n",
        "    Dense(64, activation=\"relu\"),\n",
        "    Dense(3, activation=\"softmax\"),\n",
        "])"
      ],
      "metadata": {
        "id": "nlpTHuhtyGI4"
      },
      "execution_count": null,
      "outputs": []
    },
    {
      "cell_type": "code",
      "source": [
        "# determine optimizer and loss function, for this multiclass lesson, choose \"categorical_crossentropy\"\n",
        "model.compile(optimizer=\"Adam\",\n",
        "              loss=\"categorical_crossentropy\",\n",
        "              metrics=[\"accuracy\"])"
      ],
      "metadata": {
        "id": "p8rIUKKezmWh"
      },
      "execution_count": null,
      "outputs": []
    },
    {
      "cell_type": "code",
      "source": [
        "hist = model.fit(X_train, Y_train, epochs=100)"
      ],
      "metadata": {
        "id": "n9pGMtxG0UiV"
      },
      "execution_count": null,
      "outputs": []
    },
    {
      "cell_type": "code",
      "source": [
        "# evaluate the accuracy in test data\n",
        "model.evaluate(X_test, Y_test)"
      ],
      "metadata": {
        "colab": {
          "base_uri": "https://localhost:8080/"
        },
        "id": "9Je3MKKx07al",
        "outputId": "44ff3151-8e11-4b9d-8b58-cc9e18ce9e71"
      },
      "execution_count": null,
      "outputs": [
        {
          "output_type": "stream",
          "name": "stdout",
          "text": [
            "2/2 [==============================] - 0s 7ms/step - loss: 0.0513 - accuracy: 0.9778\n"
          ]
        },
        {
          "output_type": "execute_result",
          "data": {
            "text/plain": [
              "[0.0513051301240921, 0.9777777791023254]"
            ]
          },
          "metadata": {},
          "execution_count": 16
        }
      ]
    }
  ]
}