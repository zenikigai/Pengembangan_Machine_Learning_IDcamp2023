{
  "nbformat": 4,
  "nbformat_minor": 0,
  "metadata": {
    "colab": {
      "provenance": [],
      "authorship_tag": "ABX9TyN9mGt9bXjfwhBUKZPVPg7R",
      "include_colab_link": true
    },
    "kernelspec": {
      "name": "python3",
      "display_name": "Python 3"
    },
    "language_info": {
      "name": "python"
    }
  },
  "cells": [
    {
      "cell_type": "markdown",
      "metadata": {
        "id": "view-in-github",
        "colab_type": "text"
      },
      "source": [
        "<a href=\"https://colab.research.google.com/github/zenikigai/Pengembangan_Machine_Learning_IDcamp2023/blob/main/slice_dataset_samples_1m_to_3000.ipynb\" target=\"_parent\"><img src=\"https://colab.research.google.com/assets/colab-badge.svg\" alt=\"Open In Colab\"/></a>"
      ]
    },
    {
      "cell_type": "code",
      "execution_count": 1,
      "metadata": {
        "colab": {
          "base_uri": "https://localhost:8080/"
        },
        "id": "1Eq9GBbGrR1R",
        "outputId": "82d224a9-509f-4e0f-e03a-22ceb0faa3d5"
      },
      "outputs": [
        {
          "output_type": "stream",
          "name": "stdout",
          "text": [
            "Downloading...\n",
            "From: https://drive.google.com/uc?id=1GaUf7zk1veCfnQCUodse1A0IViLe5NJx\n",
            "To: /content/tweets_dataset.csv\n",
            "100% 239M/239M [00:05<00:00, 40.4MB/s]\n"
          ]
        }
      ],
      "source": [
        "!gdown 1GaUf7zk1veCfnQCUodse1A0IViLe5NJx"
      ]
    },
    {
      "cell_type": "code",
      "source": [
        "import tensorflow as tf\n",
        "from keras.preprocessing.text import Tokenizer\n",
        "from keras.preprocessing.sequence import pad_sequences\n",
        "from sklearn.model_selection import train_test_split\n",
        "import nltk\n",
        "nltk.download('stopwords')\n",
        "nltk.download('punkt')\n",
        "from nltk.corpus import stopwords\n",
        "from nltk.tokenize import word_tokenize\n",
        "import string\n",
        "import numpy as np\n",
        "import pandas as pd\n",
        "from keras.layers import Embedding, LSTM, Dense, Dropout"
      ],
      "metadata": {
        "colab": {
          "base_uri": "https://localhost:8080/"
        },
        "id": "8QcesUM4rYKH",
        "outputId": "c3b25a0c-79fa-41fb-a1fb-6bd5706e019b"
      },
      "execution_count": 2,
      "outputs": [
        {
          "output_type": "stream",
          "name": "stderr",
          "text": [
            "[nltk_data] Downloading package stopwords to /root/nltk_data...\n",
            "[nltk_data]   Unzipping corpora/stopwords.zip.\n",
            "[nltk_data] Downloading package punkt to /root/nltk_data...\n",
            "[nltk_data]   Unzipping tokenizers/punkt.zip.\n"
          ]
        }
      ]
    },
    {
      "cell_type": "code",
      "source": [
        "dataset_asli = \"tweets_dataset.csv\"\n",
        "\n",
        "# Baca dataset asli tanpa menggunakan baris pertama sebagai header\n",
        "dataset = pd.read_csv(dataset_asli, encoding=\"latin-1\", header=None)\n",
        "\n",
        "# Ambil 3000 sampel pertama\n",
        "sliced_dataset = dataset.head(3000)\n",
        "\n",
        "# Seleksi kolom 'text' dan 'col1' saja\n",
        "sliced_dataset = sliced_dataset[[5, 0]].rename(columns={5: 'text', 0: 'col1'})\n",
        "\n",
        "# Simpan dataset terbatas ke file baru\n",
        "sliced_dataset.to_csv('dataset_terbatas.csv', index=False)\n",
        "\n",
        "# Simpan dataset asli ke file baru (jika diperlukan)\n",
        "dataset.to_csv('dataset_asli.csv', index=False)"
      ],
      "metadata": {
        "id": "XWuFCad_riiE"
      },
      "execution_count": 4,
      "outputs": []
    },
    {
      "cell_type": "code",
      "source": [
        "df  = pd.read_csv(\"dataset_terbatas.csv\")\n",
        "print(df.shape)"
      ],
      "metadata": {
        "colab": {
          "base_uri": "https://localhost:8080/"
        },
        "id": "KwFbpUoVtVpU",
        "outputId": "2bfc4bbd-cc85-4c78-dfe3-6d275a3342cc"
      },
      "execution_count": 6,
      "outputs": [
        {
          "output_type": "stream",
          "name": "stdout",
          "text": [
            "(3000, 2)\n"
          ]
        }
      ]
    },
    {
      "cell_type": "code",
      "source": [],
      "metadata": {
        "id": "Iogsz1xktjnJ"
      },
      "execution_count": null,
      "outputs": []
    }
  ]
}