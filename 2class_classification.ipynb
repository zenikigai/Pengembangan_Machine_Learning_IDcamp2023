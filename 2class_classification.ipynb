{
  "nbformat": 4,
  "nbformat_minor": 0,
  "metadata": {
    "colab": {
      "provenance": [],
      "authorship_tag": "ABX9TyPFbeUb8Dpr75cNpaNFE0Sh",
      "include_colab_link": true
    },
    "kernelspec": {
      "name": "python3",
      "display_name": "Python 3"
    },
    "language_info": {
      "name": "python"
    }
  },
  "cells": [
    {
      "cell_type": "markdown",
      "metadata": {
        "id": "view-in-github",
        "colab_type": "text"
      },
      "source": [
        "<a href=\"https://colab.research.google.com/github/zenikigai/Pengembangan_Machine_Learning_IDcamp2023/blob/main/2class_classification.ipynb\" target=\"_parent\"><img src=\"https://colab.research.google.com/assets/colab-badge.svg\" alt=\"Open In Colab\"/></a>"
      ]
    },
    {
      "cell_type": "markdown",
      "source": [
        "download dataset here: https://www.kaggle.com/datasets/joshmcadams/oranges-vs-grapefruit"
      ],
      "metadata": {
        "id": "mHVWejIv6Ln2"
      }
    },
    {
      "cell_type": "code",
      "execution_count": null,
      "metadata": {
        "id": "15Tvbnb96DUV"
      },
      "outputs": [],
      "source": [
        "# import library\n",
        "import pandas as pd\n",
        "\n",
        "# change dataset to a dataframe\n",
        "df = pd.read_csv('citrus.csv')"
      ]
    },
    {
      "cell_type": "code",
      "source": [
        "# overview\n",
        "df.info()"
      ],
      "metadata": {
        "id": "YTulyJLc6itp"
      },
      "execution_count": null,
      "outputs": []
    },
    {
      "cell_type": "code",
      "source": [
        "# show the dataframe\n",
        "df.head(10000)"
      ],
      "metadata": {
        "id": "H8aZ3V5262vD"
      },
      "execution_count": null,
      "outputs": []
    },
    {
      "cell_type": "code",
      "source": [
        "# change the label column to numeric, orange = 0, grapefruit = 1\n",
        "df.name[df.name == 'orange'] = 0\n",
        "df.name[df.name == 'grapefruit'] = 1"
      ],
      "metadata": {
        "id": "02mL2tTc68_2"
      },
      "execution_count": null,
      "outputs": []
    },
    {
      "cell_type": "code",
      "source": [
        "# \"values\" attribute retrieve numpy array that we converted from dataframe\n",
        "dataset = df.values\n",
        "\n",
        "# show the dataframe that we change to array previously\n",
        "dataset"
      ],
      "metadata": {
        "id": "HyxxJN387YE0"
      },
      "execution_count": null,
      "outputs": []
    },
    {
      "cell_type": "code",
      "source": [
        "# separate attribute and label in dataset\n",
        "\n",
        "# choose the last 5 columns as attribute\n",
        "X = dataset[:, 1:6]\n",
        "# number before comma to choose row in dataframe\n",
        "# number after comma to choose columns in dataframe\n",
        "\n",
        "# separate the label from dataset\n",
        "y = dataset[:, 0]"
      ],
      "metadata": {
        "id": "QYJCXIP28Gu3"
      },
      "execution_count": null,
      "outputs": []
    },
    {
      "cell_type": "code",
      "source": [
        "# normalization\n",
        "\n",
        "# import library\n",
        "from sklearn import preprocessing\n",
        "min_max_scaler = preprocessing.MinMaxScaler()\n",
        "\n",
        "# normalization the data with fit_transform()\n",
        "X_scale = min_max_scaler.fit_transform(X)\n",
        "X_scale"
      ],
      "metadata": {
        "id": "ZHbB-Pf3CF_A"
      },
      "execution_count": null,
      "outputs": []
    },
    {
      "cell_type": "code",
      "source": [
        "# separate data for training and testing, using 30% of the whole data as test data\n",
        "from sklearn.model_selection import train_test_split\n",
        "X_train, X_test, Y_train, Y_test = train_test_split(X_scale, y, test_size=0.3)"
      ],
      "metadata": {
        "id": "ge_bcyrrC8Yw"
      },
      "execution_count": null,
      "outputs": []
    },
    {
      "cell_type": "code",
      "source": [
        "# because we've changed the values on \"name\" column to numeric earlier, that means we turn the label to boolean data\n",
        "# so, we need to change that (boolean) data type to float32\n",
        "import numpy as np\n",
        "Y_train =  Y_train.astype(np.float32)\n",
        "Y_test = Y_test.astype(np.float32)\n",
        "# our data processing is done"
      ],
      "metadata": {
        "id": "gqKvmzpOD4j-"
      },
      "execution_count": null,
      "outputs": []
    },
    {
      "cell_type": "code",
      "source": [
        "# import library for build the model\n",
        "from keras.models import Sequential\n",
        "from keras.layers import Dense"
      ],
      "metadata": {
        "id": "WEDbKpfdFYev"
      },
      "execution_count": null,
      "outputs": []
    },
    {
      "cell_type": "code",
      "source": [
        "# this is a sequential model with 3 layers\n",
        "# activation for the first 2 layers is \"relu\", you can change it if you want\n",
        "# last layer, the unit parameter is 1, because the output is one numeric number\n",
        "# the activation function for the last layer is \"sigmoid\",\n",
        "# because sigmoid map probabilities from 0 to 1\n",
        "\n",
        "model = Sequential([\n",
        "                    Dense(32, activation='relu', input_shape=(5,)),\n",
        "                    Dense(32, activation='relu'),\n",
        "                    Dense(1, activation='sigmoid'),])"
      ],
      "metadata": {
        "id": "P9jXyZ2yFt3C"
      },
      "execution_count": null,
      "outputs": []
    },
    {
      "cell_type": "code",
      "source": [
        "# determine the optimizer and loss function\n",
        "# stochastic gradient descent (sgd) because our dataset is small\n",
        "# binary_crossentropy because our problem here is 2 classes (binary)\n",
        "# the metrics is \"accuracy\" because we want to show the accuracy in training process\n",
        "\n",
        "model.compile(optimizer='sgd',\n",
        "              loss='binary_crossentropy',\n",
        "              metrics=['accuracy'])"
      ],
      "metadata": {
        "id": "CWwFNguRHod8"
      },
      "execution_count": null,
      "outputs": []
    },
    {
      "cell_type": "code",
      "source": [
        "# training the model\n",
        "model.fit(X_train, Y_train, epochs=100)"
      ],
      "metadata": {
        "id": "K8hfY_VGItT4"
      },
      "execution_count": null,
      "outputs": []
    },
    {
      "cell_type": "code",
      "source": [
        "# evaluate the model\n",
        "model.evaluate(X_test, Y_test)\n",
        "# first elemen is loss, and the second is accuracy of the model"
      ],
      "metadata": {
        "id": "DmLX3sz9I6wV"
      },
      "execution_count": null,
      "outputs": []
    }
  ]
}