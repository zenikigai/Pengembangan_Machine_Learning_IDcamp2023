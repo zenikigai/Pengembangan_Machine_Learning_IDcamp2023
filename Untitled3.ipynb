{
  "nbformat": 4,
  "nbformat_minor": 0,
  "metadata": {
    "colab": {
      "provenance": [],
      "authorship_tag": "ABX9TyM/kdKrMXc/Hdt/amWKUn68",
      "include_colab_link": true
    },
    "kernelspec": {
      "name": "python3",
      "display_name": "Python 3"
    },
    "language_info": {
      "name": "python"
    }
  },
  "cells": [
    {
      "cell_type": "markdown",
      "metadata": {
        "id": "view-in-github",
        "colab_type": "text"
      },
      "source": [
        "<a href=\"https://colab.research.google.com/github/zenikigai/Pengembangan_Machine_Learning_IDcamp2023/blob/main/Untitled3.ipynb\" target=\"_parent\"><img src=\"https://colab.research.google.com/assets/colab-badge.svg\" alt=\"Open In Colab\"/></a>"
      ]
    },
    {
      "cell_type": "code",
      "execution_count": 10,
      "metadata": {
        "colab": {
          "base_uri": "https://localhost:8080/"
        },
        "id": "LVJjNldB7nwL",
        "outputId": "932b62ee-3d16-4441-8a8c-c1d09a7772fb"
      },
      "outputs": [
        {
          "output_type": "stream",
          "name": "stdout",
          "text": [
            "Downloading...\n",
            "From: https://drive.google.com/uc?id=1GaUf7zk1veCfnQCUodse1A0IViLe5NJx\n",
            "To: /content/tweets_dataset.csv\n",
            "100% 239M/239M [00:02<00:00, 117MB/s]\n"
          ]
        }
      ],
      "source": [
        "!gdown 1GaUf7zk1veCfnQCUodse1A0IViLe5NJx"
      ]
    },
    {
      "cell_type": "code",
      "source": [
        "# Membaca dataset\n",
        "dataset = pd.read_csv('tweets_dataset.csv', encoding=\"latin-1\", header=None)\n",
        "\n",
        "# Memberikan nama kolom\n",
        "dataset.columns = ['Index', 'Timestamp', 'Date', 'Query', 'Username', 'Tweet']\n",
        "\n",
        "# Menampilkan dataset dengan nama kolom\n",
        "print(dataset.head())\n",
        "\n",
        "# Membaca dataset\n",
        "df = pd.read_csv(\"tweets_dataset.csv\", encoding=\"latin-1\")\n",
        "\n",
        "# Mengambil 10,000 sampel secara acak\n",
        "df_sample = df.sample(n=10000, random_state=42)\n",
        "\n",
        "# Menyimpan dataset sampel ke file CSV baru\n",
        "df_sample.to_csv('tweets_10k_sample.csv', index=False)\n"
      ],
      "metadata": {
        "colab": {
          "base_uri": "https://localhost:8080/"
        },
        "id": "gAZcFhIb-wme",
        "outputId": "777e3ef2-98fc-4d2f-b2a9-8fa523dce100"
      },
      "execution_count": 21,
      "outputs": [
        {
          "output_type": "stream",
          "name": "stdout",
          "text": [
            "   Index   Timestamp                          Date     Query         Username  \\\n",
            "0      0  1467810369  Mon Apr 06 22:19:45 PDT 2009  NO_QUERY  _TheSpecialOne_   \n",
            "1      0  1467810672  Mon Apr 06 22:19:49 PDT 2009  NO_QUERY    scotthamilton   \n",
            "2      0  1467810917  Mon Apr 06 22:19:53 PDT 2009  NO_QUERY         mattycus   \n",
            "3      0  1467811184  Mon Apr 06 22:19:57 PDT 2009  NO_QUERY          ElleCTF   \n",
            "4      0  1467811193  Mon Apr 06 22:19:57 PDT 2009  NO_QUERY           Karoli   \n",
            "\n",
            "                                               Tweet  \n",
            "0  @switchfoot http://twitpic.com/2y1zl - Awww, t...  \n",
            "1  is upset that he can't update his Facebook by ...  \n",
            "2  @Kenichan I dived many times for the ball. Man...  \n",
            "3    my whole body feels itchy and like its on fire   \n",
            "4  @nationwideclass no, it's not behaving at all....  \n"
          ]
        }
      ]
    },
    {
      "cell_type": "code",
      "source": [
        "import pandas as pd\n",
        "df = pd.read_csv(\"tweets_10k_sample.csv\")\n",
        "# Memberikan nama kolom\n",
        "df.columns = ['Index', 'Timestamp', 'Date', 'Query', 'Username', 'Tweet']\n",
        "# Menampilkan dataset dengan nama kolom\n",
        "print(df.head())"
      ],
      "metadata": {
        "colab": {
          "base_uri": "https://localhost:8080/"
        },
        "id": "K1lDRzQqAN41",
        "outputId": "fb0d516f-8ac1-4508-c3eb-79ee704c394a"
      },
      "execution_count": 24,
      "outputs": [
        {
          "output_type": "stream",
          "name": "stdout",
          "text": [
            "   Index   Timestamp                          Date     Query        Username  \\\n",
            "0      0  2200003313  Tue Jun 16 18:18:13 PDT 2009  NO_QUERY   DEWGetMeTho77   \n",
            "1      0  1467998601  Mon Apr 06 23:11:18 PDT 2009  NO_QUERY         Young_J   \n",
            "2      0  2300049112  Tue Jun 23 13:40:12 PDT 2009  NO_QUERY   dougnawoschik   \n",
            "3      0  1993474319  Mon Jun 01 10:26:09 PDT 2009  NO_QUERY        thireven   \n",
            "4      0  2256551006  Sat Jun 20 12:56:51 PDT 2009  NO_QUERY  taracollins086   \n",
            "\n",
            "                                               Tweet  \n",
            "0  @Nkluvr4eva My poor little dumpling  In Holmde...  \n",
            "1  I'm off too bed. I gotta wake up hella early t...  \n",
            "2  I havent been able to listen to it yet  My spe...  \n",
            "3  now remembers why solving a relatively big equ...  \n",
            "4                           Ate too much, feel sick   \n"
          ]
        }
      ]
    },
    {
      "cell_type": "code",
      "source": [],
      "metadata": {
        "id": "dDUzSiBiDT39"
      },
      "execution_count": null,
      "outputs": []
    }
  ]
}